{
 "cells": [
  {
   "cell_type": "markdown",
   "metadata": {},
   "source": [
    "## Load modules"
   ]
  },
  {
   "cell_type": "code",
   "execution_count": 1,
   "metadata": {
    "_cell_guid": "b1076dfc-b9ad-4769-8c92-a6c4dae69d19",
    "_uuid": "8f2839f25d086af736a60e9eeb907d3b93b6e0e5"
   },
   "outputs": [],
   "source": [
    "%matplotlib inline\n",
    "import os\n",
    "import glob\n",
    "import tqdm\n",
    "import numpy as np\n",
    "import pandas as pd\n",
    "import matplotlib.pyplot as plt\n",
    "import multiprocessing\n",
    "from functools import partial\n",
    "\n",
    "import pydicom as dicom\n",
    "import nibabel as nib"
   ]
  },
  {
   "cell_type": "markdown",
   "metadata": {},
   "source": [
    "### Set path"
   ]
  },
  {
   "cell_type": "code",
   "execution_count": 2,
   "metadata": {
    "_cell_guid": "79c7e3d0-c299-4dcb-8224-4455121ee9b0",
    "_uuid": "d629ff2d2480ee46fbb7e2d37f6b5fab8052498a"
   },
   "outputs": [
    {
     "name": "stdout",
     "output_type": "stream",
     "text": [
      "Train data: 138\n"
     ]
    }
   ],
   "source": [
    "# TODO: modify the following paths\n",
    "train_image_folder = \"../input/train-images/image/\"\n",
    "train_label_folder = \"../input/train-labels/label/\"\n",
    "test_image_folder = \"../input/test-images/image/\"\n",
    "\n",
    "train_list = os.listdir(train_image_folder)\n",
    "\n",
    "# Ignore this data\n",
    "if 'hmvsa0loxh3ek2y8rzmcyb6zrrh9mwyp' in train_list:\n",
    "    train_list.remove('hmvsa0loxh3ek2y8rzmcyb6zrrh9mwyp')\n",
    "    \n",
    "print('Train data:', len(train_list))"
   ]
  },
  {
   "cell_type": "code",
   "execution_count": 3,
   "metadata": {},
   "outputs": [],
   "source": [
    "def load_dicom_volume(src_dir, suffix='*.dcm'):\n",
    "    \"\"\"Load DICOM volume and get meta data.\n",
    "    \"\"\"\n",
    "    encode_name = src_dir.split('/')[-1]\n",
    "    # Read dicom files from the source directory\n",
    "    # Sort the dicom slices in their respective order by slice location\n",
    "    dicom_scans = [dicom.read_file(sp) \\\n",
    "                   for sp in glob.glob(os.path.join(src_dir, suffix))]\n",
    "    # dicom_scans.sort(key=lambda s: float(s.SliceLocation))\n",
    "    dicom_scans.sort(key=lambda s: float(s[(0x0020, 0x0032)][2]))\n",
    "\n",
    "    # Convert to int16, should be possible as values should always be low enough\n",
    "    # Volume image is in z, y, x order\n",
    "    volume_image = np.stack([ds.pixel_array \\\n",
    "                             for ds in dicom_scans]).astype(np.int16)\n",
    "    return encode_name, volume_image\n",
    "\n",
    "def load_label(label_fpath, transpose=False):\n",
    "    encode_name = label_fpath[-39: -7]\n",
    "    label_data = nib.load(label_fpath)\n",
    "    label_array = label_data.get_fdata()\n",
    "    if transpose:\n",
    "        label_array = np.transpose(label_array, axes=(2, 1, 0))\n",
    "    return encode_name, label_array"
   ]
  },
  {
   "cell_type": "markdown",
   "metadata": {},
   "source": [
    "## DICOM to npz"
   ]
  },
  {
   "cell_type": "code",
   "execution_count": 4,
   "metadata": {},
   "outputs": [],
   "source": [
    "train_image_npz_folder = './npz/train_images/'\n",
    "\n",
    "if not os.path.exists(train_image_npz_folder):\n",
    "    os.makedirs(train_image_npz_folder)"
   ]
  },
  {
   "cell_type": "code",
   "execution_count": 5,
   "metadata": {},
   "outputs": [
    {
     "name": "stderr",
     "output_type": "stream",
     "text": [
      "100%|██████████| 138/138 [12:11<00:00,  5.87s/it]\n"
     ]
    }
   ],
   "source": [
    "for encode in tqdm.tqdm(train_list):\n",
    "    _, volume_image = load_dicom_volume(os.path.join(train_image_folder, encode))\n",
    "    npz_folder = os.path.join(train_image_npz_folder, encode)\n",
    "    if not os.path.exists(npz_folder):\n",
    "        os.mkdir(npz_folder) \n",
    "        \n",
    "    num_slice = volume_image.shape[0]\n",
    "    for _z in range(0, num_slice):\n",
    "        npz_path = os.path.join(npz_folder, \"%03d.npz\"%(_z))\n",
    "        np.savez_compressed(npz_path, image=volume_image[_z])\n",
    "        \n",
    "    del volume_image"
   ]
  },
  {
   "cell_type": "code",
   "execution_count": 6,
   "metadata": {},
   "outputs": [
    {
     "name": "stdout",
     "output_type": "stream",
     "text": [
      "03bx24c1mzl7s9pqakoyt1jqmp7cyzga  j1p9iaj7k74r9d5j0jreadj8wgv7ja3o\r\n",
      "081j5f5m21t7nb1yd03uncoofau9cfzu  j8khbaawyee4l62omt3lj1cnm341gkws\r\n",
      "0fjeqffgptvghl67enh9768ja0gr1cxa  jgeqimtpbet66qnxrkx46w6re0lxgw3i\r\n",
      "174iu1tagmhsuf1gpaep4neeh504kz9l  jptl2g69invzxvhxud8s4c8nbed2z0w1\r\n",
      "1cjggtlk17z3yzmbu1sa94vueum4jqw3  juo9o5bqnxhcjcd97sf4jbk8q2ylpu9u\r\n",
      "1okl5s5owdr0q8lwpq4kfiqwpdeuj5tn  jx6s7d44mu0gm67eglc22uorx0i3m0pg\r\n",
      "1v33cimocil7livtswez02ag7zhrj7bw  jxnt5nkian5ih6rr1qk96bubvr05088t\r\n",
      "244esbhzjg4je4dq37wdapz9zf81z41c  l5lnq23o7n2o2hvbxzv9x8sip5qpoasz\r\n",
      "2skyephnmr3k2bdux5ud61a8if3j1bqv  lpp3c9hwquq1df0azzi6d9p8kupyap69\r\n",
      "2w2suqniwvkbxnfdpi2qayhlyfouhozt  lzb5xxrdsxzuqjhawi1o5zrn56ei7gsw\r\n",
      "2wl8od3lbvg4mshmnk7lrk7k3jnxq3sm  mb2eh536dir6krz3fyrdmhwrzk9ddbta\r\n",
      "3aakrmc6ptivx0qe4qrxnyjjv88s9afi  mdz5hgdkvhzq6fsdibjdcmffeacrmo6n\r\n",
      "3mnrdz2gsy5nc33euleuwylgyr48yj8z  mfms4vpcpzpmtff0f806l0m8llrh56tg\r\n",
      "3zmprnfquchu6f51dyf34x34rchn2kkz  mtavwzg2d8jta926np6ae0uf8o7p3h9b\r\n",
      "41xlgqbk42c0wqzrwyl43lvgpf9n90qz  n4y1776e8bplu67noj20wkzhztvrfg4j\r\n",
      "43oaq9gj4u9dg864f0xln01jbwq1iybr  njk2tukbfimtgy1qlp6l6hcg5kg965r7\r\n",
      "456dtslwbe8ck7oyohdwt5ri0g8roylw  nnnp4jmhp6g6ahp4mjgsn0gx00ahve0a\r\n",
      "4jm4y3gv8jt28kzwpx336t16yi0wa0n5  ntpivpjffg2ttsswggdi4yl7pg0ryp7a\r\n",
      "4q5cthsxqkugjugjrrea707mu8fhl9tq  nx5t62d6hzvm1egydllfmg8mti2omeil\r\n",
      "4rgpktehnvslfprnaatyi0rv75peac7o  oa7km23pklmqrxgztx6udzqc45o52mqk\r\n",
      "58e28rsyz9rlb2q7eykyloiendvc1bgc  oa7nilk4nuzck787quj2yms05hz6k58s\r\n",
      "5c9bzrd13js9qh34q13pxzt7u51fij72  peb3o8w9hear0o9ngwvdiijkagf600ae\r\n",
      "61rux6mda10phpy03bvjlajz09rv25r1  pjwav2xuex37n3ju3wtomuq1d0nd6vdv\r\n",
      "64rvtb4hauo57oyob8doxr4z53kpx5py  pombg1donfr2wi5ubi9acuhcyzqgwy94\r\n",
      "6akhpnzfnk9cgkik8k7izk6akx0kbmxp  pql0s0ujm16ak1lgiopim24v5asduhz9\r\n",
      "6gl6wovgwutrrlzb71gauh6rjcveevoz  prmp9uolz3qje3x067gb6ze096afmj3e\r\n",
      "720tx65hr6ee2wphtdf5d7ww0boph3e2  pvy9t4lp7wxyn1sn813xrqxe5e2c2l4u\r\n",
      "743ieagacrk14bimo89iyx5qz6b7zkdp  q5qdymit8h3yw0fff243vaejr6nncvq2\r\n",
      "7b7iihsfcxvjmmpryv17n4y89bya3i7x  q6yn15l9bueo6s1hk97c41kahmjds7pq\r\n",
      "7mkgcfk5n1jvwmf6bur36r5h7mfbn1hs  qcgw4shk72dmjg88v0cadz2ez9mhc8yh\r\n",
      "7x413oc1krui35mwob9q7bv28z2sgf1h  qjp7oljs3swz9raiw565geyn72ub4c91\r\n",
      "897fzb413fducfo6iauj02uck2gdgamr  qrtx68af7g9q6hbq4g2p66itb31ym3c3\r\n",
      "8twapht2f7ctenvobvln1kg9ce15azkh  r0tioi8rb1zqn85ejh6zc4ywiwu1jd4p\r\n",
      "95kf2i1unlzml4ucpwrbtbqig3q7yvdy  r3cg5jiikudoy1iknccjzgc0zxkz5r3i\r\n",
      "9cel1mmb2x9j7r7yxe1ybufe4pzd4pva  r6jc0lyr04tkfh3dp5od3urba6vl7ld7\r\n",
      "9ts9lr7qcng2c1q9msj5v9scah8796up  r7yfk0a9z39xbw48pzp1ihh0qcm1kj2s\r\n",
      "9zviaheg1l3kq2q7tz3ibbjkpuqvuvf6  rc9eygr91dn0u5cbkb7wffyw9xda5qh3\r\n",
      "acpwbs8hp2jipr26fnlsnvvsvwmwcu7e  rhmbdsgc75essiv995aph7vjko2j6qf1\r\n",
      "ahjuq6ox3evcjyitd29qgpkaslckxwhe  s6b6vo1ol5jkioag3qgazjpdnva5hx0k\r\n",
      "ap34cbply0345yczm1z3kao3y0c9w5oo  s6lyih6jfv9izt34lkah9ywva5wgeqxk\r\n",
      "awxp4owsd913q1ptabban39t720nat1p  sy90uxivmgs4yfno4nvuu0kv7oz3b09z\r\n",
      "bayi63jw8m1v77vot8o1xoy7p5aj46ux  t5a16z4txtiuvmtktv9m12yvp4814ezv\r\n",
      "bhpsf0jnfwql7qmmur4c39m37zfiswqq  taeu0pmgqe40a0nbdrks95g3q6hj859e\r\n",
      "bzwz81ju2qq8bhhltbsmcw25iymdg9um  tgehp3l5fg22rb9qf2w6n03x0xllz159\r\n",
      "c7y5lg2i8h11k4bb2ic84ijrat0uak96  tu0p7ellgve5xmeq354wradxnbq0wwe4\r\n",
      "coqtwuwnvj1aueh5j803fzqrhuqbh0c5  tvcjurv1rep02xy07ayx14trqn6xeh2k\r\n",
      "cwdwkqebse8ladz4ofio81w2zgecnxby  u9vv5qqh35k0iv64qceud7p4e5t6glo9\r\n",
      "dawc4iouwysv73xz5ma71fduywlxwfde  ujhxcw1lds202qcg8qk0lsvyvgnj8dy9\r\n",
      "docrm1v00nuyg1w8ogncg1r0np0t399h  umk4ioyz1aqbgbgf97d7us5nqa9wen93\r\n",
      "dvaereinjq1zmgyko73p4m331wdqlqnx  up3xjg92ncbznurjyt6pp1q5enbloidp\r\n",
      "eldi8okzeb4xhf7kzn053u989p7vesoc  uz15d5odukrbslyuzel6qhgo28pvf5kt\r\n",
      "ffdxubml1ahy1e71ol2ewal8aeo92l3r  v42dtk4uvdb2xk9zl3o2l3zp5n5qpdad\r\n",
      "fnna8nogvybqq489v5qej5i6h44d2n76  v7do63o0j7c5s7yq6cakk9ngbbdv4tjx\r\n",
      "fp06ebusn2v753mjai65w89n8gb02izp  vb6e0uc51eq05fhz0ahjvwuoe9ljmvep\r\n",
      "ge30su1kv8s0m2wrzl4z4fbpdcm3ffjj  vbh205njhy4h0pdzjq7gpdq48njtyqfo\r\n",
      "ge6chhljur8uylgg6agw7y0hyzjnmzn6  vi4uio9fz0pk5gmtmjwh5qc0qkjjbmxy\r\n",
      "gyxk8eb5plkbobtt8l0q8jnj8m4lxp1f  vw4r5kkc0i55srunqv2nfkidk0d0lr86\r\n",
      "hjinvvoyc4bdzzvv74dsbqw93vxs2le1  w76zb988p62bqzxi6fprbyd7dju0l58h\r\n",
      "ht1fh3arytl8qypgagi2p92hmv7kq91h  wo5a9qjvhzcttxkppxgw4kburrftz9ll\r\n",
      "hvfqqiz7njv2g1hnaykvsausz2x95j83  x9tneie54ga3p4e6sm3rzekn57z41iw5\r\n",
      "i0mq0kifufreii9fga8ao0b70i48o70x  xg7d7dthy3mt4mnarz1wn53vltv2i4g2\r\n",
      "ief2kviwbwi2vgyzw6c7w6ciwffemufo  xh3iv435hniq7ai2fvom58w6qgmqm3k8\r\n",
      "iiccst4of9mh807g0nbwnk7edh0615nx  xigd7khwhip6nu69j7mmhhck6aobg9mn\r\n",
      "iqna4fjmuot8von4go8wvzbqz1ohhshj  ylg8w7tude8jxaa50x19po3j47sl27yu\r\n",
      "ix6f5nj7szzysjfdxd5gyjp9t1c4m9yk  yr8uhc0tdp01x3yh4y6f7diofbp3i5rb\r\n",
      "iyii9krl5bwnzbvtnto5f4i4nt121dp4  zed6y4bk7guypb5yxwtnlmjvxpwcnww8\r\n",
      "iyq6w4h8hpvua5wqwzmukf3b2k4twmio  zwf30qqzpowfjfy6jdmjzw8nv12fycen\r\n",
      "j0ck6ge1mcmpnpy2ww0vx22q2fc463ym  zwvtd0mj0m5lczx5mvuuuku7ov233jlm\r\n",
      "j195u4tvcp7282km7sdq8rjailjeiwt0  zye9qosabcr59rwh4klhia0u18fhzcob\r\n"
     ]
    }
   ],
   "source": [
    "!ls './npz/train_images/'"
   ]
  },
  {
   "cell_type": "markdown",
   "metadata": {},
   "source": [
    "## NIFTI to npz"
   ]
  },
  {
   "cell_type": "code",
   "execution_count": 7,
   "metadata": {},
   "outputs": [],
   "source": [
    "train_label_npz_folder = './npz/train_labels/'\n",
    "\n",
    "if not os.path.exists(train_label_npz_folder):\n",
    "    os.makedirs(train_label_npz_folder)"
   ]
  },
  {
   "cell_type": "code",
   "execution_count": 8,
   "metadata": {},
   "outputs": [
    {
     "name": "stderr",
     "output_type": "stream",
     "text": [
      "100%|██████████| 138/138 [06:28<00:00,  3.10s/it]\n"
     ]
    }
   ],
   "source": [
    "for encode in tqdm.tqdm(train_list):\n",
    "    _, label_array = load_label(os.path.join(train_label_folder, encode + '.nii.gz'), transpose=True)\n",
    "    npz_folder = os.path.join(train_label_npz_folder, encode)\n",
    "    if not os.path.exists(npz_folder):\n",
    "        os.mkdir(npz_folder) \n",
    "        \n",
    "    num_slice = label_array.shape[0]\n",
    "    for _z in range(0, num_slice):\n",
    "        npz_path = os.path.join(npz_folder, \"%03d.npz\"%(_z))\n",
    "        np.savez_compressed(npz_path, label=label_array[_z])\n",
    "        \n",
    "    del label_array"
   ]
  },
  {
   "cell_type": "markdown",
   "metadata": {},
   "source": [
    "## Try to apply UNet "
   ]
  },
  {
   "cell_type": "code",
   "execution_count": 9,
   "metadata": {},
   "outputs": [
    {
     "name": "stderr",
     "output_type": "stream",
     "text": [
      "Using TensorFlow backend.\n"
     ]
    },
    {
     "data": {
      "text/plain": [
       "['/job:localhost/replica:0/task:0/device:GPU:0']"
      ]
     },
     "execution_count": 9,
     "metadata": {},
     "output_type": "execute_result"
    }
   ],
   "source": [
    "from keras.models import Model, load_model\n",
    "from keras import layers as klayers\n",
    "from keras.optimizers import Adam\n",
    "from keras import utils as kutils\n",
    "from keras import backend as K\n",
    "from keras.callbacks import ModelCheckpoint\n",
    "import tensorflow as tf\n",
    "\n",
    "# Make sure keras running on GPU\n",
    "K.tensorflow_backend._get_available_gpus()"
   ]
  },
  {
   "cell_type": "markdown",
   "metadata": {},
   "source": [
    "### Data generator"
   ]
  },
  {
   "cell_type": "code",
   "execution_count": 10,
   "metadata": {},
   "outputs": [
    {
     "data": {
      "text/html": [
       "<div>\n",
       "<style scoped>\n",
       "    .dataframe tbody tr th:only-of-type {\n",
       "        vertical-align: middle;\n",
       "    }\n",
       "\n",
       "    .dataframe tbody tr th {\n",
       "        vertical-align: top;\n",
       "    }\n",
       "\n",
       "    .dataframe thead th {\n",
       "        text-align: right;\n",
       "    }\n",
       "</style>\n",
       "<table border=\"1\" class=\"dataframe\">\n",
       "  <thead>\n",
       "    <tr style=\"text-align: right;\">\n",
       "      <th></th>\n",
       "      <th>image</th>\n",
       "      <th>label</th>\n",
       "    </tr>\n",
       "  </thead>\n",
       "  <tbody>\n",
       "    <tr>\n",
       "      <th>0</th>\n",
       "      <td>./npz/train_images/03bx24c1mzl7s9pqakoyt1jqmp7...</td>\n",
       "      <td>./npz/train_labels/03bx24c1mzl7s9pqakoyt1jqmp7...</td>\n",
       "    </tr>\n",
       "    <tr>\n",
       "      <th>1</th>\n",
       "      <td>./npz/train_images/03bx24c1mzl7s9pqakoyt1jqmp7...</td>\n",
       "      <td>./npz/train_labels/03bx24c1mzl7s9pqakoyt1jqmp7...</td>\n",
       "    </tr>\n",
       "    <tr>\n",
       "      <th>2</th>\n",
       "      <td>./npz/train_images/03bx24c1mzl7s9pqakoyt1jqmp7...</td>\n",
       "      <td>./npz/train_labels/03bx24c1mzl7s9pqakoyt1jqmp7...</td>\n",
       "    </tr>\n",
       "    <tr>\n",
       "      <th>3</th>\n",
       "      <td>./npz/train_images/03bx24c1mzl7s9pqakoyt1jqmp7...</td>\n",
       "      <td>./npz/train_labels/03bx24c1mzl7s9pqakoyt1jqmp7...</td>\n",
       "    </tr>\n",
       "    <tr>\n",
       "      <th>4</th>\n",
       "      <td>./npz/train_images/03bx24c1mzl7s9pqakoyt1jqmp7...</td>\n",
       "      <td>./npz/train_labels/03bx24c1mzl7s9pqakoyt1jqmp7...</td>\n",
       "    </tr>\n",
       "  </tbody>\n",
       "</table>\n",
       "</div>"
      ],
      "text/plain": [
       "                                               image                                              label\n",
       "0  ./npz/train_images/03bx24c1mzl7s9pqakoyt1jqmp7...  ./npz/train_labels/03bx24c1mzl7s9pqakoyt1jqmp7...\n",
       "1  ./npz/train_images/03bx24c1mzl7s9pqakoyt1jqmp7...  ./npz/train_labels/03bx24c1mzl7s9pqakoyt1jqmp7...\n",
       "2  ./npz/train_images/03bx24c1mzl7s9pqakoyt1jqmp7...  ./npz/train_labels/03bx24c1mzl7s9pqakoyt1jqmp7...\n",
       "3  ./npz/train_images/03bx24c1mzl7s9pqakoyt1jqmp7...  ./npz/train_labels/03bx24c1mzl7s9pqakoyt1jqmp7...\n",
       "4  ./npz/train_images/03bx24c1mzl7s9pqakoyt1jqmp7...  ./npz/train_labels/03bx24c1mzl7s9pqakoyt1jqmp7..."
      ]
     },
     "execution_count": 10,
     "metadata": {},
     "output_type": "execute_result"
    }
   ],
   "source": [
    "map_image_list = sorted(glob.glob(os.path.join(train_image_npz_folder, '*/*.npz')))\n",
    "map_label_list = sorted(glob.glob(os.path.join(train_label_npz_folder, '*/*.npz')))\n",
    "\n",
    "map_df = pd.DataFrame(data={'image': map_image_list, 'label': map_label_list})\n",
    "map_df.head()"
   ]
  },
  {
   "cell_type": "code",
   "execution_count": 11,
   "metadata": {},
   "outputs": [],
   "source": [
    "class LungSliceModelGenerator(kutils.Sequence):\n",
    "    'Generates data for Keras'\n",
    "    def __init__(self, mapping_df, batch_size, shuffle=True):\n",
    "        'Initialization'\n",
    "        self.mapping_df = mapping_df\n",
    "        self.data_num   = mapping_df.shape[0]\n",
    "        self.batch_size = batch_size\n",
    "        self.shuffle = shuffle\n",
    "        self.on_epoch_end()\n",
    "\n",
    "    def __len__(self):\n",
    "        'Denotes the number of batches per epoch'\n",
    "        return int(np.floor(self.data_num / self.batch_size))\n",
    "\n",
    "\n",
    "    def __getitem__(self, index):\n",
    "        'Generate one batch of data'\n",
    "        # Generate indexes of the batch\n",
    "        batch_mapping_df = \\\n",
    "            self.mapping_df.iloc[index*self.batch_size: (index+1)*self.batch_size]\n",
    "\n",
    "        # Generate data\n",
    "        X, y = self.__data_generation(batch_mapping_df)\n",
    "        return X, y\n",
    "\n",
    "\n",
    "    def on_epoch_end(self):\n",
    "        'Updates indexes after each epoch'\n",
    "        if self.shuffle:\n",
    "            self.mapping_df = self.mapping_df.sample(frac=1).reset_index(drop=True)\n",
    "            \n",
    "    def __data_generation(self, batch_mapping_df):\n",
    "        'Generates data containing batch_size samples' \n",
    "        # Initialization\n",
    "        X = np.zeros((self.batch_size, 512, 512, 1))\n",
    "        y = np.zeros((self.batch_size, 512, 512, 1))\n",
    "\n",
    "        # Generate data\n",
    "        cnt = 0\n",
    "        for i, row in batch_mapping_df.iterrows():\n",
    "            X[cnt, :, :, 0] = np.load(row['image'])['image']\n",
    "            y[cnt, :, :, 0] = np.load(row['label'])['label']\n",
    "            cnt += 1\n",
    "        return X, y"
   ]
  },
  {
   "cell_type": "code",
   "execution_count": 12,
   "metadata": {},
   "outputs": [],
   "source": [
    "batch_size = 16\n",
    "train_df = map_df.iloc[:-1000]\n",
    "valid_df = map_df.iloc[-1000:]\n",
    "train_slice_generator = LungSliceModelGenerator(train_df, batch_size=batch_size)\n",
    "valid_slice_generator = LungSliceModelGenerator(valid_df, batch_size=batch_size)"
   ]
  },
  {
   "cell_type": "markdown",
   "metadata": {},
   "source": [
    "## Loss function"
   ]
  },
  {
   "cell_type": "code",
   "execution_count": 13,
   "metadata": {},
   "outputs": [],
   "source": [
    "def _dice_coefficient(threshold = 0.3):\n",
    "    def hard_dice_coefficient(y_true, y_pred, smooth=1.0):\n",
    "        y_true_f = K.flatten(K.cast(y_true > threshold, dtype=float))\n",
    "        y_pred_f = K.flatten(K.cast(y_pred > threshold, dtype=float))\n",
    "        intersection = K.sum(y_true_f * y_pred_f)\n",
    "        return (2. * intersection + smooth) / (K.sum(y_true_f) + K.sum(y_pred_f) + smooth)\n",
    "    return hard_dice_coefficient\n",
    "\n",
    "def dice_coefficient_loss(y_true, y_pred):\n",
    "    return 1 - _dice_coefficient()(y_true, y_pred)"
   ]
  },
  {
   "cell_type": "markdown",
   "metadata": {},
   "source": [
    "## Model architecture"
   ]
  },
  {
   "cell_type": "code",
   "execution_count": 14,
   "metadata": {},
   "outputs": [],
   "source": [
    "def unet(pretrained_weights=None, input_size=[512, 512, 1], depth=3, init_filter=8, \n",
    "         filter_size=3, padding='same', pool_size=[2, 2], strides=[2, 2]):\n",
    "    \n",
    "    inputs = klayers.Input(input_size)\n",
    "    \n",
    "    current_layer = inputs\n",
    "    encoding_layers = []\n",
    "    \n",
    "    # Encoder path\n",
    "    for d in range(depth + 1):\n",
    "        num_filters = init_filter * 2 ** d\n",
    "        \n",
    "        conv = klayers.Conv2D(num_filters, filter_size, padding=padding, kernel_initializer='he_normal')(current_layer)\n",
    "        conv = klayers.BatchNormalization()(conv)\n",
    "        conv = klayers.Activation('relu')(conv)\n",
    "        conv = klayers.Conv2D(num_filters * 2, filter_size, padding=padding, kernel_initializer='he_normal')(conv)\n",
    "        conv = klayers.BatchNormalization()(conv)\n",
    "        conv = klayers.Activation('relu')(conv)\n",
    "        encoding_layers.append(conv)\n",
    "    \n",
    "        pool = klayers.MaxPooling2D(pool_size=pool_size)(conv)\n",
    "        \n",
    "        if d == depth:\n",
    "            # Bridge\n",
    "            current_layer = conv\n",
    "        else:\n",
    "            current_layer = pool\n",
    "\n",
    "        \n",
    "    # Decoder path\n",
    "    for d in range(depth, 0, -1):\n",
    "        num_filters = init_filter * 2 ** d\n",
    "        up = klayers.Deconvolution2D(num_filters * 2, pool_size, strides=strides)(current_layer)\n",
    "\n",
    "        crop_layer = encoding_layers[d - 1]\n",
    "        # Calculate two layers shape\n",
    "        up_shape = np.array(up._keras_shape[1:-1])\n",
    "        conv_shape = np.array(crop_layer._keras_shape[1:-1])\n",
    "\n",
    "        # Calculate crop size of left and right\n",
    "        crop_left = (conv_shape - up_shape) // 2\n",
    "\n",
    "        crop_right = (conv_shape - up_shape) // 2 + (conv_shape - up_shape) % 2\n",
    "        crop_sizes = tuple(zip(crop_left, crop_right))\n",
    "\n",
    "        crop = klayers.Cropping2D(cropping=crop_sizes)(crop_layer)\n",
    "\n",
    "        # Concatenate\n",
    "        up = klayers.Concatenate(axis=-1)([crop, up])\n",
    "        conv = klayers.Conv2D(num_filters, filter_size, padding=padding, kernel_initializer='he_normal')(up)\n",
    "        conv = klayers.BatchNormalization()(conv)\n",
    "        conv = klayers.Activation('relu')(conv)\n",
    "        conv = klayers.Conv2D(num_filters, filter_size, padding=padding, kernel_initializer='he_normal')(conv)\n",
    "        conv = klayers.BatchNormalization()(conv)\n",
    "        conv = klayers.Activation('relu')(conv)\n",
    "        \n",
    "        current_layer = conv\n",
    "    \n",
    "    \n",
    "    outputs = klayers.Conv2D(1, 1, padding=padding, kernel_initializer='he_normal')(current_layer)\n",
    "    outputs = klayers.Activation('sigmoid')(outputs)\n",
    "    model = Model(inputs=inputs, outputs=outputs)\n",
    "\n",
    "    if(pretrained_weights):\n",
    "        model.load_weights(pretrained_weights)\n",
    "\n",
    "    return model"
   ]
  },
  {
   "cell_type": "code",
   "execution_count": 15,
   "metadata": {},
   "outputs": [
    {
     "name": "stdout",
     "output_type": "stream",
     "text": [
      "WARNING:tensorflow:From /opt/conda/lib/python3.6/site-packages/tensorflow/python/framework/op_def_library.py:263: colocate_with (from tensorflow.python.framework.ops) is deprecated and will be removed in a future version.\n",
      "Instructions for updating:\n",
      "Colocations handled automatically by placer.\n",
      "__________________________________________________________________________________________________\n",
      "Layer (type)                    Output Shape         Param #     Connected to                     \n",
      "==================================================================================================\n",
      "input_1 (InputLayer)            (None, 512, 512, 1)  0                                            \n",
      "__________________________________________________________________________________________________\n",
      "conv2d_1 (Conv2D)               (None, 512, 512, 8)  80          input_1[0][0]                    \n",
      "__________________________________________________________________________________________________\n",
      "batch_normalization_1 (BatchNor (None, 512, 512, 8)  32          conv2d_1[0][0]                   \n",
      "__________________________________________________________________________________________________\n",
      "activation_1 (Activation)       (None, 512, 512, 8)  0           batch_normalization_1[0][0]      \n",
      "__________________________________________________________________________________________________\n",
      "conv2d_2 (Conv2D)               (None, 512, 512, 16) 1168        activation_1[0][0]               \n",
      "__________________________________________________________________________________________________\n",
      "batch_normalization_2 (BatchNor (None, 512, 512, 16) 64          conv2d_2[0][0]                   \n",
      "__________________________________________________________________________________________________\n",
      "activation_2 (Activation)       (None, 512, 512, 16) 0           batch_normalization_2[0][0]      \n",
      "__________________________________________________________________________________________________\n",
      "max_pooling2d_1 (MaxPooling2D)  (None, 256, 256, 16) 0           activation_2[0][0]               \n",
      "__________________________________________________________________________________________________\n",
      "conv2d_3 (Conv2D)               (None, 256, 256, 16) 2320        max_pooling2d_1[0][0]            \n",
      "__________________________________________________________________________________________________\n",
      "batch_normalization_3 (BatchNor (None, 256, 256, 16) 64          conv2d_3[0][0]                   \n",
      "__________________________________________________________________________________________________\n",
      "activation_3 (Activation)       (None, 256, 256, 16) 0           batch_normalization_3[0][0]      \n",
      "__________________________________________________________________________________________________\n",
      "conv2d_4 (Conv2D)               (None, 256, 256, 32) 4640        activation_3[0][0]               \n",
      "__________________________________________________________________________________________________\n",
      "batch_normalization_4 (BatchNor (None, 256, 256, 32) 128         conv2d_4[0][0]                   \n",
      "__________________________________________________________________________________________________\n",
      "activation_4 (Activation)       (None, 256, 256, 32) 0           batch_normalization_4[0][0]      \n",
      "__________________________________________________________________________________________________\n",
      "max_pooling2d_2 (MaxPooling2D)  (None, 128, 128, 32) 0           activation_4[0][0]               \n",
      "__________________________________________________________________________________________________\n",
      "conv2d_5 (Conv2D)               (None, 128, 128, 32) 9248        max_pooling2d_2[0][0]            \n",
      "__________________________________________________________________________________________________\n",
      "batch_normalization_5 (BatchNor (None, 128, 128, 32) 128         conv2d_5[0][0]                   \n",
      "__________________________________________________________________________________________________\n",
      "activation_5 (Activation)       (None, 128, 128, 32) 0           batch_normalization_5[0][0]      \n",
      "__________________________________________________________________________________________________\n",
      "conv2d_6 (Conv2D)               (None, 128, 128, 64) 18496       activation_5[0][0]               \n",
      "__________________________________________________________________________________________________\n",
      "batch_normalization_6 (BatchNor (None, 128, 128, 64) 256         conv2d_6[0][0]                   \n",
      "__________________________________________________________________________________________________\n",
      "activation_6 (Activation)       (None, 128, 128, 64) 0           batch_normalization_6[0][0]      \n",
      "__________________________________________________________________________________________________\n",
      "max_pooling2d_3 (MaxPooling2D)  (None, 64, 64, 64)   0           activation_6[0][0]               \n",
      "__________________________________________________________________________________________________\n",
      "conv2d_7 (Conv2D)               (None, 64, 64, 64)   36928       max_pooling2d_3[0][0]            \n",
      "__________________________________________________________________________________________________\n",
      "batch_normalization_7 (BatchNor (None, 64, 64, 64)   256         conv2d_7[0][0]                   \n",
      "__________________________________________________________________________________________________\n",
      "activation_7 (Activation)       (None, 64, 64, 64)   0           batch_normalization_7[0][0]      \n",
      "__________________________________________________________________________________________________\n",
      "conv2d_8 (Conv2D)               (None, 64, 64, 128)  73856       activation_7[0][0]               \n",
      "__________________________________________________________________________________________________\n",
      "batch_normalization_8 (BatchNor (None, 64, 64, 128)  512         conv2d_8[0][0]                   \n",
      "__________________________________________________________________________________________________\n",
      "activation_8 (Activation)       (None, 64, 64, 128)  0           batch_normalization_8[0][0]      \n",
      "__________________________________________________________________________________________________\n",
      "cropping2d_1 (Cropping2D)       (None, 128, 128, 64) 0           activation_6[0][0]               \n",
      "__________________________________________________________________________________________________\n",
      "conv2d_transpose_1 (Conv2DTrans (None, 128, 128, 128 65664       activation_8[0][0]               \n",
      "__________________________________________________________________________________________________\n",
      "concatenate_1 (Concatenate)     (None, 128, 128, 192 0           cropping2d_1[0][0]               \n",
      "                                                                 conv2d_transpose_1[0][0]         \n",
      "__________________________________________________________________________________________________\n",
      "conv2d_9 (Conv2D)               (None, 128, 128, 64) 110656      concatenate_1[0][0]              \n",
      "__________________________________________________________________________________________________\n",
      "batch_normalization_9 (BatchNor (None, 128, 128, 64) 256         conv2d_9[0][0]                   \n",
      "__________________________________________________________________________________________________\n",
      "activation_9 (Activation)       (None, 128, 128, 64) 0           batch_normalization_9[0][0]      \n",
      "__________________________________________________________________________________________________\n",
      "conv2d_10 (Conv2D)              (None, 128, 128, 64) 36928       activation_9[0][0]               \n",
      "__________________________________________________________________________________________________\n",
      "batch_normalization_10 (BatchNo (None, 128, 128, 64) 256         conv2d_10[0][0]                  \n",
      "__________________________________________________________________________________________________\n",
      "activation_10 (Activation)      (None, 128, 128, 64) 0           batch_normalization_10[0][0]     \n",
      "__________________________________________________________________________________________________\n",
      "cropping2d_2 (Cropping2D)       (None, 256, 256, 32) 0           activation_4[0][0]               \n",
      "__________________________________________________________________________________________________\n",
      "conv2d_transpose_2 (Conv2DTrans (None, 256, 256, 64) 16448       activation_10[0][0]              \n",
      "__________________________________________________________________________________________________\n",
      "concatenate_2 (Concatenate)     (None, 256, 256, 96) 0           cropping2d_2[0][0]               \n",
      "                                                                 conv2d_transpose_2[0][0]         \n",
      "__________________________________________________________________________________________________\n",
      "conv2d_11 (Conv2D)              (None, 256, 256, 32) 27680       concatenate_2[0][0]              \n",
      "__________________________________________________________________________________________________\n",
      "batch_normalization_11 (BatchNo (None, 256, 256, 32) 128         conv2d_11[0][0]                  \n",
      "__________________________________________________________________________________________________\n",
      "activation_11 (Activation)      (None, 256, 256, 32) 0           batch_normalization_11[0][0]     \n",
      "__________________________________________________________________________________________________\n",
      "conv2d_12 (Conv2D)              (None, 256, 256, 32) 9248        activation_11[0][0]              \n",
      "__________________________________________________________________________________________________\n",
      "batch_normalization_12 (BatchNo (None, 256, 256, 32) 128         conv2d_12[0][0]                  \n",
      "__________________________________________________________________________________________________\n",
      "activation_12 (Activation)      (None, 256, 256, 32) 0           batch_normalization_12[0][0]     \n",
      "__________________________________________________________________________________________________\n",
      "cropping2d_3 (Cropping2D)       (None, 512, 512, 16) 0           activation_2[0][0]               \n",
      "__________________________________________________________________________________________________\n",
      "conv2d_transpose_3 (Conv2DTrans (None, 512, 512, 32) 4128        activation_12[0][0]              \n",
      "__________________________________________________________________________________________________\n",
      "concatenate_3 (Concatenate)     (None, 512, 512, 48) 0           cropping2d_3[0][0]               \n",
      "                                                                 conv2d_transpose_3[0][0]         \n",
      "__________________________________________________________________________________________________\n",
      "conv2d_13 (Conv2D)              (None, 512, 512, 16) 6928        concatenate_3[0][0]              \n",
      "__________________________________________________________________________________________________\n",
      "batch_normalization_13 (BatchNo (None, 512, 512, 16) 64          conv2d_13[0][0]                  \n",
      "__________________________________________________________________________________________________\n",
      "activation_13 (Activation)      (None, 512, 512, 16) 0           batch_normalization_13[0][0]     \n",
      "__________________________________________________________________________________________________\n",
      "conv2d_14 (Conv2D)              (None, 512, 512, 16) 2320        activation_13[0][0]              \n",
      "__________________________________________________________________________________________________\n",
      "batch_normalization_14 (BatchNo (None, 512, 512, 16) 64          conv2d_14[0][0]                  \n",
      "__________________________________________________________________________________________________\n",
      "activation_14 (Activation)      (None, 512, 512, 16) 0           batch_normalization_14[0][0]     \n",
      "__________________________________________________________________________________________________\n",
      "conv2d_15 (Conv2D)              (None, 512, 512, 1)  17          activation_14[0][0]              \n",
      "__________________________________________________________________________________________________\n",
      "activation_15 (Activation)      (None, 512, 512, 1)  0           conv2d_15[0][0]                  \n",
      "==================================================================================================\n",
      "Total params: 429,089\n",
      "Trainable params: 427,921\n",
      "Non-trainable params: 1,168\n",
      "__________________________________________________________________________________________________\n"
     ]
    }
   ],
   "source": [
    "model = unet(depth=3)\n",
    "model.compile(optimizer=Adam(lr=1e-4), loss='binary_crossentropy', metrics=[_dice_coefficient(0.3)])\n",
    "model.summary()"
   ]
  },
  {
   "cell_type": "code",
   "execution_count": 16,
   "metadata": {},
   "outputs": [
    {
     "name": "stdout",
     "output_type": "stream",
     "text": [
      "WARNING:tensorflow:From /opt/conda/lib/python3.6/site-packages/tensorflow/python/ops/math_ops.py:3066: to_int32 (from tensorflow.python.ops.math_ops) is deprecated and will be removed in a future version.\n",
      "Instructions for updating:\n",
      "Use tf.cast instead.\n",
      "Epoch 1/15\n",
      "942/942 [==============================] - 407s 432ms/step - loss: 0.1530 - hard_dice_coefficient: 8.3140e-04 - val_loss: 0.0861 - val_hard_dice_coefficient: 0.0028\n",
      "Epoch 2/15\n",
      "942/942 [==============================] - 399s 423ms/step - loss: 0.0607 - hard_dice_coefficient: 0.0176 - val_loss: 0.0425 - val_hard_dice_coefficient: 0.1701\n",
      "Epoch 3/15\n",
      "942/942 [==============================] - 401s 425ms/step - loss: 0.0315 - hard_dice_coefficient: 0.0922 - val_loss: 0.0232 - val_hard_dice_coefficient: 0.1942\n",
      "Epoch 4/15\n",
      "942/942 [==============================] - 401s 426ms/step - loss: 0.0182 - hard_dice_coefficient: 0.1039 - val_loss: 0.0135 - val_hard_dice_coefficient: 0.1304\n",
      "Epoch 5/15\n",
      "942/942 [==============================] - 401s 426ms/step - loss: 0.0114 - hard_dice_coefficient: 0.0975 - val_loss: 0.0091 - val_hard_dice_coefficient: 0.2266\n",
      "Epoch 6/15\n",
      "446/942 [=============>................] - ETA: 3:24 - loss: 0.0085 - hard_dice_coefficient: 0.0991"
     ]
    }
   ],
   "source": [
    "modelcheckpoint = ModelCheckpoint('model-{epoch:03d}.h5', save_best_only=False, period=5)\n",
    "history = model.fit_generator(train_slice_generator, validation_data=valid_slice_generator, epochs=15, callbacks=[modelcheckpoint], verbose=1)"
   ]
  },
  {
   "cell_type": "code",
   "execution_count": 17,
   "metadata": {},
   "outputs": [
    {
     "name": "stdout",
     "output_type": "stream",
     "text": [
      "dict_keys(['val_loss', 'val_hard_dice_coefficient', 'loss', 'hard_dice_coefficient'])\n"
     ]
    }
   ],
   "source": [
    "# list all data in history\n",
    "print(history.history.keys())"
   ]
  },
  {
   "cell_type": "code",
   "execution_count": 18,
   "metadata": {},
   "outputs": [
    {
     "data": {
      "image/png": "[encoded data removed]",
      "text/plain": [
       "<Figure size 432x288 with 1 Axes>"
      ]
     },
     "metadata": {},
     "output_type": "display_data"
    }
   ],
   "source": [
    "# summarize history for hard_dice_coefficient\n",
    "plt.plot(history.history['hard_dice_coefficient'])\n",
    "plt.plot(history.history['val_hard_dice_coefficient'])\n",
    "plt.title('model dice_coefficient')\n",
    "plt.ylabel('hard_dice_coefficient')\n",
    "plt.xlabel('epoch')\n",
    "plt.legend(['train', 'test'], loc='upper left')\n",
    "plt.show()"
   ]
  },
  {
   "cell_type": "code",
   "execution_count": 19,
   "metadata": {},
   "outputs": [
    {
     "data": {
      "image/png": "[encoded data removed]",
      "text/plain": [
       "<Figure size 432x288 with 1 Axes>"
      ]
     },
     "metadata": {},
     "output_type": "display_data"
    }
   ],
   "source": [
    "# summarize history for loss\n",
    "plt.plot(history.history['loss'])\n",
    "plt.plot(history.history['val_loss'])\n",
    "plt.title('model loss')\n",
    "plt.ylabel('loss')\n",
    "plt.xlabel('epoch')\n",
    "plt.legend(['train', 'test'], loc='upper left')\n",
    "plt.show()"
   ]
  },
  {
   "cell_type": "code",
   "execution_count": 20,
   "metadata": {},
   "outputs": [],
   "source": [
    "#del model"
   ]
  },
  {
   "cell_type": "code",
   "execution_count": 21,
   "metadata": {},
   "outputs": [],
   "source": [
    "check_model = load_model('model-015.h5', custom_objects={'hard_dice_coefficient': _dice_coefficient(0.3)})"
   ]
  },
  {
   "cell_type": "markdown",
   "metadata": {},
   "source": [
    "## Predict test images"
   ]
  },
  {
   "cell_type": "code",
   "execution_count": 22,
   "metadata": {},
   "outputs": [],
   "source": [
    "def retrieve_pred_str(src_dir, model, threshold=0.4):\n",
    "    encode_name = src_dir.split('/')[-1]\n",
    "    \n",
    "    _, test_volume = load_dicom_volume(src_dir, suffix='*.dcm')\n",
    "    \n",
    "    pred_label = model.predict(np.expand_dims(test_volume, axis=-1))\n",
    "    pred_label = np.transpose(pred_label[:, :, :, 0], axes=(2, 1, 0))\n",
    "    \n",
    "    pred_label = (pred_label > threshold).astype(np.int)\n",
    "\n",
    "    label_flatten = pred_label.flatten()\n",
    "\n",
    "    label_flatten_idx = np.where(label_flatten == 1)[0]\n",
    "\n",
    "    label_str = ''\n",
    "    \n",
    "    if label_flatten_idx.size > 0:\n",
    "        prev_idx = label_flatten_idx[0]\n",
    "        idx_start = label_flatten_idx[0]\n",
    "        cnt = 1\n",
    "        for _idx in label_flatten_idx[1:]:\n",
    "            if _idx == prev_idx+1:\n",
    "                cnt += 1\n",
    "            else:\n",
    "                label_str += str(idx_start) + ' ' + str(cnt) + ' '\n",
    "\n",
    "                cnt = 1\n",
    "                idx_start = _idx\n",
    "            prev_idx = _idx\n",
    "\n",
    "        label_str = label_str.rstrip(' ')\n",
    "    return (encode_name, label_str)"
   ]
  },
  {
   "cell_type": "code",
   "execution_count": 23,
   "metadata": {},
   "outputs": [],
   "source": [
    "sample_submission = np.genfromtxt('../input/sample_submission.csv', \n",
    "                                  delimiter=',', \n",
    "                                  dtype='str',\n",
    "                                  skip_header = 1)"
   ]
  },
  {
   "cell_type": "code",
   "execution_count": 24,
   "metadata": {},
   "outputs": [],
   "source": [
    "test_encode_list = sample_submission[:, 0]"
   ]
  },
  {
   "cell_type": "code",
   "execution_count": 25,
   "metadata": {},
   "outputs": [
    {
     "name": "stderr",
     "output_type": "stream",
     "text": [
      "100%|██████████| 139/139 [09:39<00:00,  4.46s/it]\n"
     ]
    }
   ],
   "source": [
    "pred_pair_list = []\n",
    "\n",
    "for encode_name in tqdm.tqdm(test_encode_list, total=len(test_encode_list)):\n",
    "    (encode, label_str) = retrieve_pred_str(os.path.join(test_image_folder, encode_name), check_model, threshold=0.3)\n",
    "    pred_pair_list.append((encode, label_str))"
   ]
  },
  {
   "cell_type": "code",
   "execution_count": 26,
   "metadata": {},
   "outputs": [],
   "source": [
    "solution_path = './sample-code_pred.csv'\n",
    "with open(solution_path, 'w') as f:\n",
    "    f.write('encode,pixel_value\\n')\n",
    "    for _pair in pred_pair_list:\n",
    "        encode = _pair[0]\n",
    "        label_str = _pair[1]\n",
    "        f.write(encode + ',' + label_str + '\\n')"
   ]
  },
  {
   "cell_type": "markdown",
   "metadata": {},
   "source": [
    "# Show Predicted Image"
   ]
  },
  {
   "cell_type": "code",
   "execution_count": 27,
   "metadata": {},
   "outputs": [],
   "source": [
    "# Read dicom files from the source directory\n",
    "# Sort the dicom slices in their respective order by slice location\n",
    "dicom_scans = [dicom.read_file(os.path.join(os.path.join(test_image_folder, 'jdndkse8voi5t59sr8y1z9nuh1a4k09s'), '000051.dcm')),\n",
    "              dicom.read_file(os.path.join(os.path.join(test_image_folder, 'ob3o558sc26crrdtv38b2z7fjl8xpqda'), '000058.dcm')),\n",
    "              dicom.read_file(os.path.join(os.path.join(test_image_folder, 'k9plcilsqtwwwuu9oj2logl8ph5cmmmx'), '000057.dcm'))]\n",
    "# dicom_scans.sort(key=lambda s: float(s.SliceLocation))\n",
    "dicom_scans.sort(key=lambda s: float(s[(0x0020, 0x0032)][2]))\n",
    "\n",
    "# Convert to int16, should be possible as values should always be low enough\n",
    "# Volume image is in z, y, x order\n",
    "volume_image = np.stack([ds.pixel_array \\\n",
    "                         for ds in dicom_scans]).astype(np.int16)\n",
    "test_volume_image = np.expand_dims(volume_image, -1)"
   ]
  },
  {
   "cell_type": "code",
   "execution_count": 28,
   "metadata": {},
   "outputs": [],
   "source": [
    "early_model = load_model('model-005.h5', custom_objects={'hard_dice_coefficient': _dice_coefficient(0.3)})\n",
    "middle_model = load_model('model-010.h5', custom_objects={'hard_dice_coefficient': _dice_coefficient(0.3)})"
   ]
  },
  {
   "cell_type": "code",
   "execution_count": 29,
   "metadata": {},
   "outputs": [
    {
     "data": {
      "image/png": "[encoded data removed]",
      "text/plain": [
       "<Figure size 432x288 with 1 Axes>"
      ]
     },
     "metadata": {},
     "output_type": "display_data"
    },
    {
     "data": {
      "image/png": "[encoded data removed]",
      "text/plain": [
       "<Figure size 432x288 with 1 Axes>"
      ]
     },
     "metadata": {},
     "output_type": "display_data"
    },
    {
     "data": {
      "image/png": "[encoded data removed]",
      "text/plain": [
       "<Figure size 432x288 with 1 Axes>"
      ]
     },
     "metadata": {},
     "output_type": "display_data"
    }
   ],
   "source": [
    "test_label = early_model.predict(test_volume_image)\n",
    "pred_label = (test_label > 0.3).astype(np.int)\n",
    "label_flatten = np.squeeze(pred_label, -1)\n",
    "\n",
    "for row in label_flatten:\n",
    "    plt.imshow(row)\n",
    "    plt.show()"
   ]
  },
  {
   "cell_type": "code",
   "execution_count": 30,
   "metadata": {},
   "outputs": [
    {
     "data": {
      "image/png": "[encoded data removed]",
      "text/plain": [
       "<Figure size 432x288 with 1 Axes>"
      ]
     },
     "metadata": {},
     "output_type": "display_data"
    },
    {
     "data": {
      "image/png": "[encoded data removed]",
      "text/plain": [
       "<Figure size 432x288 with 1 Axes>"
      ]
     },
     "metadata": {},
     "output_type": "display_data"
    },
    {
     "data": {
      "image/png": "[encoded data removed]",
      "text/plain": [
       "<Figure size 432x288 with 1 Axes>"
      ]
     },
     "metadata": {},
     "output_type": "display_data"
    }
   ],
   "source": [
    "test_label = middle_model.predict(test_volume_image)\n",
    "pred_label = (test_label > 0.3).astype(np.int)\n",
    "label_flatten = np.squeeze(pred_label, -1)\n",
    "\n",
    "for row in label_flatten:\n",
    "    plt.imshow(row)\n",
    "    plt.show()"
   ]
  },
  {
   "cell_type": "code",
   "execution_count": 31,
   "metadata": {},
   "outputs": [
    {
     "data": {
      "image/png": "[encoded data removed]",
      "text/plain": [
       "<Figure size 432x288 with 1 Axes>"
      ]
     },
     "metadata": {},
     "output_type": "display_data"
    },
    {
     "data": {
      "image/png": "[encoded data removed]",
      "text/plain": [
       "<Figure size 432x288 with 1 Axes>"
      ]
     },
     "metadata": {},
     "output_type": "display_data"
    },
    {
     "data": {
      "image/png": "[encoded data removed]",
      "text/plain": [
       "<Figure size 432x288 with 1 Axes>"
      ]
     },
     "metadata": {},
     "output_type": "display_data"
    }
   ],
   "source": [
    "test_label = check_model.predict(test_volume_image)\n",
    "pred_label = (test_label > 0.3).astype(np.int)\n",
    "label_flatten = np.squeeze(pred_label, -1)\n",
    "\n",
    "for row in label_flatten:\n",
    "    plt.imshow(row)\n",
    "    plt.show()"
   ]
  },
  {
   "cell_type": "markdown",
   "metadata": {},
   "source": [
    "## Remove all npz files"
   ]
  },
  {
   "cell_type": "code",
   "execution_count": 32,
   "metadata": {},
   "outputs": [],
   "source": [
    "!rm -r ./npz"
   ]
  }
 ],
 "metadata": {
  "kernelspec": {
   "display_name": "Python 3",
   "language": "python",
   "name": "python3"
  },
  "language_info": {
   "codemirror_mode": {
    "name": "ipython",
    "version": 3
   },
   "file_extension": ".py",
   "mimetype": "text/x-python",
   "name": "python",
   "nbconvert_exporter": "python",
   "pygments_lexer": "ipython3",
   "version": "3.6.4"
  }
 },
 "nbformat": 4,
 "nbformat_minor": 1
}
